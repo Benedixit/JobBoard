{
 "cells": [
  {
   "cell_type": "raw",
   "id": "3a20519c",
   "metadata": {},
   "source": [
    "pip install beautifulsoup4"
   ]
  },
  {
   "cell_type": "code",
   "execution_count": 40,
   "id": "3956e4d1",
   "metadata": {},
   "outputs": [
    {
     "name": "stdout",
     "output_type": "stream",
     "text": [
      "Requirement already satisfied: lxml in c:\\users\\lenovo\\anaconda3\\lib\\site-packages (4.9.1)\n",
      "Note: you may need to restart the kernel to use updated packages.\n"
     ]
    }
   ],
   "source": [
    "pip install lxml"
   ]
  },
  {
   "cell_type": "code",
   "execution_count": 207,
   "id": "71340076",
   "metadata": {},
   "outputs": [],
   "source": [
    "from bs4 import BeautifulSoup\n",
    "import pandas as pd"
   ]
  },
  {
   "cell_type": "code",
   "execution_count": 253,
   "id": "abef7568",
   "metadata": {},
   "outputs": [],
   "source": [
    "import requests\n",
    "data = requests.get(\"https://www.myjobmag.com/search/\").text"
   ]
  },
  {
   "cell_type": "code",
   "execution_count": 254,
   "id": "ae33e5c8",
   "metadata": {},
   "outputs": [],
   "source": [
    "soup = BeautifulSoup(data, 'lxml')"
   ]
  },
  {
   "cell_type": "code",
   "execution_count": 255,
   "id": "113f654a",
   "metadata": {},
   "outputs": [],
   "source": [
    "job_titles = []\n",
    "for job in soup.find_all(\"h2\"):\n",
    "    job_titles.append(job.text)\n",
    "\n",
    "job_titles = job_titles[:-3]"
   ]
  },
  {
   "cell_type": "code",
   "execution_count": 256,
   "id": "5f0c04a3",
   "metadata": {},
   "outputs": [],
   "source": [
    "job_dates = []\n",
    "for job_date in soup.find_all(\"li\", id=\"job-date\"):\n",
    "    job_dates.append(job_date.text)\n",
    "\n"
   ]
  },
  {
   "cell_type": "code",
   "execution_count": 244,
   "id": "ad0ba357",
   "metadata": {},
   "outputs": [],
   "source": [
    "job_descs = []\n",
    "for job_desc in soup.find_all(\"li\", class_=\"job-desc\"):\n",
    "    job_descs.append(job_desc.text)"
   ]
  },
  {
   "cell_type": "code",
   "execution_count": 257,
   "id": "b4313309",
   "metadata": {},
   "outputs": [],
   "source": [
    "companies = []\n",
    "for company in soup.find_all(\"img\", alt=True)[1:]:\n",
    "    companies.append(company['alt'])"
   ]
  },
  {
   "cell_type": "code",
   "execution_count": 259,
   "id": "6edbd474",
   "metadata": {},
   "outputs": [],
   "source": [
    "job_titles = pd.Series(job_titles)"
   ]
  },
  {
   "cell_type": "code",
   "execution_count": 260,
   "id": "ef7e521f",
   "metadata": {},
   "outputs": [],
   "source": [
    "companies = pd.Series(companies)"
   ]
  },
  {
   "cell_type": "code",
   "execution_count": 261,
   "id": "a0d507ce",
   "metadata": {},
   "outputs": [],
   "source": [
    "job_descs = pd.Series(job_descs)"
   ]
  },
  {
   "cell_type": "code",
   "execution_count": 262,
   "id": "95b1026f",
   "metadata": {},
   "outputs": [],
   "source": [
    "job_dates = pd.Series(job_dates)"
   ]
  },
  {
   "cell_type": "code",
   "execution_count": 263,
   "id": "34df4d7d",
   "metadata": {},
   "outputs": [],
   "source": [
    "df = pd.concat({\"Job Title\": job_titles,\n",
    "                \"Company Name\" :companies, \n",
    "                \"Date Posted\": job_dates, \n",
    "                \"Job Description\": job_descs}, axis = 1)"
   ]
  },
  {
   "cell_type": "code",
   "execution_count": 264,
   "id": "ab82d0a0",
   "metadata": {},
   "outputs": [],
   "source": [
    "df.to_excel(\"main_jobs.xlsx\")"
   ]
  },
  {
   "cell_type": "code",
   "execution_count": null,
   "id": "b7b79f2e",
   "metadata": {},
   "outputs": [],
   "source": []
  }
 ],
 "metadata": {
  "kernelspec": {
   "display_name": "Python 3 (ipykernel)",
   "language": "python",
   "name": "python3"
  },
  "language_info": {
   "codemirror_mode": {
    "name": "ipython",
    "version": 3
   },
   "file_extension": ".py",
   "mimetype": "text/x-python",
   "name": "python",
   "nbconvert_exporter": "python",
   "pygments_lexer": "ipython3",
   "version": "3.9.13"
  }
 },
 "nbformat": 4,
 "nbformat_minor": 5
}
